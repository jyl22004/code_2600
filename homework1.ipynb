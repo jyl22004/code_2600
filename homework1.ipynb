{
 "cells": [
  {
   "cell_type": "markdown",
   "id": "56b168fe",
   "metadata": {},
   "source": [
    "# Question 1\n",
    "1. (10 points) Suppose the data for analysis includes the attribute age. The age values for the  \n",
    "data tuples are (in increasing order)  \n",
    "13, 15, 16, 16, 19, 20, 20, 21, 22, 22, 23, 25, 25, 25, 30, 33,\n",
    "33, 33, 33, 35, 35, 36, 40, 45, 46, 52, 70 "
   ]
  },
  {
   "cell_type": "markdown",
   "id": "3147144d",
   "metadata": {},
   "source": [
    "## 1a: \n",
    "The mean of the data is approximately 29.74. The median of the data is 25.  \n",
    "The mean is calculated by taking the sum of all the ages, then dividing by the number of data points.  \n",
    "The median of the data is the value in the middle of the ordered data set (the average of the two middle numbers if there is an even number of data points)"
   ]
  },
  {
   "cell_type": "code",
   "execution_count": 3,
   "id": "b60c8d76",
   "metadata": {},
   "outputs": [
    {
     "name": "stdout",
     "output_type": "stream",
     "text": [
      "The mean is 29.74074074074074\n",
      "The median is 25\n"
     ]
    }
   ],
   "source": [
    "age_values = [13, 15, 16, 16, 19, 20, 20, 21, 22, 22, 23, 25, 25, 25, 30, 33, 33, 33, 33, 35, 35, 36, 40, 45, 46, 52, 70]\n",
    "\n",
    "n = len(age_values)     #n is equal to 27 in the case\n",
    "\n",
    "mean = sum(age_values) / n\n",
    "\"\"\"the mean is calculated by taking the sum of all the ages, then dividing by the number of data points\"\"\"\n",
    "print(f'The mean is {mean}')\n",
    "\n",
    "median_index = (n // 2)\n",
    "median = age_values[median_index]\n",
    "\"\"\"n is odd so we do not have to worry about averaging the two middle values; since the list is indexed starting at 0, \n",
    "floor division will give the index of the median\"\"\"\n",
    "print(f'The median is {median}')\n",
    "\n"
   ]
  },
  {
   "cell_type": "markdown",
   "id": "4ce54350",
   "metadata": {},
   "source": [
    "## 1b: \n",
    "The mode (most frequent value) of the data set is 33, which appears four times. The next most frequent value is 25. The data is unimodal, since it has only mode."
   ]
  },
  {
   "cell_type": "markdown",
   "id": "237a9382",
   "metadata": {},
   "source": [
    "## 1c:\n",
    "Q1 is 20. Q3 is 35.  \n",
    "Q1 is the median of the lower half of the data. Q3 is the median of the upper half of the data.\n"
   ]
  },
  {
   "cell_type": "code",
   "execution_count": 9,
   "id": "68171dba",
   "metadata": {},
   "outputs": [
    {
     "name": "stdout",
     "output_type": "stream",
     "text": [
      "Q1 is 20\n",
      "Q3 is 35\n"
     ]
    }
   ],
   "source": [
    "lower = [13, 15, 16, 16, 19, 20, 20, 21, 22, 22, 23, 25, 25]\n",
    "upper = [30, 33, 33, 33, 33, 35, 35, 36, 40, 45, 46, 52, 70]\n",
    "\n",
    "n = len(lower)\n",
    "m = len(upper)\n",
    "\n",
    "q1_index = (n // 2)\n",
    "q1 = lower[q1_index]\n",
    "\"\"\"n is odd so we do not have to worry about averaging the two middle values; since the list is indexed starting at 0, \n",
    "floor division will give the index of the median\"\"\"\n",
    "print(f'Q1 is {q1}')\n",
    "\n",
    "q3_index = (m // 2)\n",
    "q3 = upper[q3_index]\n",
    "print(f'Q3 is {q3}')"
   ]
  },
  {
   "cell_type": "markdown",
   "id": "c356106f",
   "metadata": {},
   "source": [
    "## 1d.\n",
    "The minimum is 13.  \n",
    "Q1 is 20.  \n",
    "The median is 25.  \n",
    "Q3 is 35.  \n",
    "The maximum is 70.  "
   ]
  },
  {
   "cell_type": "markdown",
   "id": "f9a4d624",
   "metadata": {},
   "source": [
    "## 1e."
   ]
  },
  {
   "cell_type": "code",
   "execution_count": 41,
   "id": "64d92881",
   "metadata": {},
   "outputs": [
    {
     "data": {
      "image/png": "[encoded data removed]",
      "text/plain": [
       "<Figure size 640x480 with 1 Axes>"
      ]
     },
     "metadata": {},
     "output_type": "display_data"
    }
   ],
   "source": [
    "import matplotlib.pyplot as plt\n",
    "import numpy as np\n",
    "\n",
    "age_values = [13, 15, 16, 16, 19, 20, 20, 21, 22, 22, 23, 25, 25, 25, 30, 33, 33, 33, 33, 35, 35, 36, 40, 45, 46, 52, 70]\n",
    "\n",
    "fig, ax = plt.subplots()\n",
    "ax.boxplot(age_values,\n",
    "           )\n",
    "ax.set(ylim = (0,85), yticks = np.arange(0,81,5))\n",
    "ax.set_title('Boxplot of Ages')\n",
    "ax.set_xticklabels(['Group 1'])\n",
    "ax.set_ylabel('Age')\n",
    "\n",
    "plt.show()"
   ]
  },
  {
   "cell_type": "markdown",
   "id": "f8314eea",
   "metadata": {},
   "source": [
    "# Question 1\n",
    "2. (24 points) Adapted from ISLP 2.4.10.  \n",
    "Load the Hitters data set, which is part of the ISLP library. Details can be found at https:  \n",
    "//intro-stat-learning.github.io/ISLP/datasets/Hitters.html.  \n"
   ]
  },
  {
   "cell_type": "markdown",
   "id": "5c1fac9b",
   "metadata": {},
   "source": [
    "## 1a.\n",
    "There are ____ rows in this data set and ____ columns."
   ]
  },
  {
   "cell_type": "code",
   "execution_count": null,
   "id": "9b04aa67",
   "metadata": {},
   "outputs": [],
   "source": [
    "import csv\n",
    "\n"
   ]
  }
 ],
 "metadata": {
  "kernelspec": {
   "display_name": "base",
   "language": "python",
   "name": "python3"
  },
  "language_info": {
   "codemirror_mode": {
    "name": "ipython",
    "version": 3
   },
   "file_extension": ".py",
   "mimetype": "text/x-python",
   "name": "python",
   "nbconvert_exporter": "python",
   "pygments_lexer": "ipython3",
   "version": "3.13.5"
  }
 },
 "nbformat": 4,
 "nbformat_minor": 5
}
